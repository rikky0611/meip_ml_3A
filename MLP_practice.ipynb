{
 "cells": [
  {
   "cell_type": "code",
   "execution_count": 3,
   "metadata": {
    "collapsed": true
   },
   "outputs": [],
   "source": [
    "%matplotlib inline\n",
    "import matplotlib.pyplot as plt\n",
    "import numpy as np\n",
    "\n",
    "from sklearn.utils import shuffle\n",
    "from sklearn.metrics import accuracy_score\n",
    "from sklearn.datasets import fetch_mldata\n",
    "from sklearn.model_selection import train_test_split"
   ]
  },
  {
   "cell_type": "markdown",
   "metadata": {},
   "source": [
    "## データ準備"
   ]
  },
  {
   "cell_type": "code",
   "execution_count": 4,
   "metadata": {
    "collapsed": true
   },
   "outputs": [],
   "source": [
    "mnist = fetch_mldata('MNIST original')\n",
    "mnist_X, mnist_y = shuffle(mnist.data, mnist.target.astype('int32'),\n",
    "                           random_state=42)\n",
    "\n",
    "# 輝度値のスケーリング\n",
    "mnist_X = mnist_X / 255.0\n",
    "# 今回は時間短縮のため1000個を使用\n",
    "mnist_X, mnist_y = mnist_X[:1000], mnist_y[:1000]\n",
    "# 学習データとテストデータに分ける\n",
    "train_X, test_X, train_y, test_y = train_test_split(mnist_X, mnist_y,\n",
    "                                                    test_size=0.2,\n",
    "                                                    random_state=43)\n",
    "# one-of-k表現にする。\n",
    "train_y = np.eye(10)[train_y]"
   ]
  },
  {
   "cell_type": "code",
   "execution_count": 5,
   "metadata": {
    "collapsed": false
   },
   "outputs": [
    {
     "data": {
      "image/png": "[encoded data removed]",
      "text/plain": [
       "<matplotlib.figure.Figure at 0x106664e80>"
      ]
     },
     "metadata": {},
     "output_type": "display_data"
    }
   ],
   "source": [
    "def show_image(x, t, y=None):\n",
    "    x.resize(28, 28)\n",
    "    plt.imshow(x, 'gray')\n",
    "    if y is not None:\n",
    "        plt.title(\"true: {0}, pred: {1}\".format(t, y))\n",
    "    else:\n",
    "        plt.title(t)\n",
    "    plt.show()\n",
    "show_image(train_X[0], np.argmax(train_y[0]))"
   ]
  },
  {
   "cell_type": "markdown",
   "metadata": {},
   "source": [
    "## 活性化関数"
   ]
  },
  {
   "cell_type": "code",
   "execution_count": 9,
   "metadata": {
    "collapsed": true
   },
   "outputs": [],
   "source": [
    "def sigmoid(x):\n",
    "    \"\"\" sigmoid function\n",
    "    \"\"\"\n",
    "    return ### WRITEME ###\n",
    "\n",
    "def derive_sigmoid(x):\n",
    "    \"\"\" derivative function of sigmoid\n",
    "    \"\"\"\n",
    "    return ### WRITEME ###"
   ]
  },
  {
   "cell_type": "markdown",
   "metadata": {},
   "source": [
    "## レイヤー"
   ]
  },
  {
   "cell_type": "code",
   "execution_count": 10,
   "metadata": {
    "collapsed": true
   },
   "outputs": [],
   "source": [
    "class Layer:\n",
    "    def __init__(self, in_dim, out_dim, function, deriv_function):\n",
    "        self.W = np.random.uniform(low= -0.08, high= 0.08,\n",
    "                                                           size=(in_dim, out_dim)).astype(\"float32\") # 重み\n",
    "        self.b = np.zeros(out_dim).astype(\"float32\") # バイアス\n",
    "        self.function = function # 活性化関数\n",
    "        self.deriv_function = deriv_function # 活性化関数の微分\n",
    "        self.a = None\n",
    "        self.delta = None\n",
    "        \n",
    "    def f_prop(self, x):\n",
    "        \"\"\" feedforward\n",
    "        \"\"\"\n",
    "        \n",
    "        return ### WRITEME ###\n",
    "    \n",
    "    def b_prop(self, delta, W):\n",
    "        \"\"\" back propagation\n",
    "        \"\"\"\n",
    "\n",
    "        return ### WRITEME ###"
   ]
  },
  {
   "cell_type": "code",
   "execution_count": 11,
   "metadata": {
    "collapsed": true
   },
   "outputs": [],
   "source": [
    "def f_props(layers, x):\n",
    "    \"\"\" feedforward from input layer\n",
    "    \"\"\"\n",
    "    z = x\n",
    "    for layer in layers:\n",
    "        z = layer.f_prop(z)\n",
    "    return z\n",
    "\n",
    "def b_props(layers, delta):\n",
    "    \"\"\" back propagation from output layer\n",
    "    \"\"\"\n",
    "    for i, layer in enumerate(layers[::-1]):\n",
    "        if i == 0:\n",
    "            layer.delta = delta\n",
    "        else:\n",
    "            delta = layer.b_prop(delta, _W)\n",
    "        _W = layer.W"
   ]
  },
  {
   "cell_type": "markdown",
   "metadata": {},
   "source": [
    "## 学習"
   ]
  },
  {
   "cell_type": "code",
   "execution_count": 12,
   "metadata": {
    "collapsed": false
   },
   "outputs": [
    {
     "ename": "SyntaxError",
     "evalue": "invalid syntax (<ipython-input-12-6ea507456491>, line 6)",
     "output_type": "error",
     "traceback": [
      "\u001b[0;36m  File \u001b[0;32m\"<ipython-input-12-6ea507456491>\"\u001b[0;36m, line \u001b[0;32m6\u001b[0m\n\u001b[0;31m    delta = ### WRITEME ###\u001b[0m\n\u001b[0m                           ^\u001b[0m\n\u001b[0;31mSyntaxError\u001b[0m\u001b[0;31m:\u001b[0m invalid syntax\n"
     ]
    }
   ],
   "source": [
    "def train(X, t, eps=0.001):\n",
    "    \"\"\" train on given minibatch\n",
    "    \"\"\"\n",
    "    # feed forward & back propagation\n",
    "    y = f_props(layers, X)\n",
    "    delta = ### WRITEME ###\n",
    "    b_props(layers, delta)\n",
    "\n",
    "    # update layer by layer\n",
    "    z = X\n",
    "    for i, layer in enumerate(layers):\n",
    "        dW = np.dot(z.T, layer.delta)\n",
    "        db = np.dot(np.ones(len(z)), layer.delta)\n",
    "        layer.W = layer.W - eps*dW\n",
    "        layer.b = layer.b - eps*db\n",
    "        z = layer.z\n",
    "\n",
    "def test(X, t):\n",
    "    \"\"\" feed forward on given minibatch\n",
    "    \"\"\"\n",
    "    y = f_props(layers, X)\n",
    "    return y"
   ]
  },
  {
   "cell_type": "code",
   "execution_count": 13,
   "metadata": {
    "collapsed": false
   },
   "outputs": [
    {
     "ename": "NameError",
     "evalue": "name 'train' is not defined",
     "output_type": "error",
     "traceback": [
      "\u001b[0;31m---------------------------------------------------------------------------\u001b[0m",
      "\u001b[0;31mNameError\u001b[0m                                 Traceback (most recent call last)",
      "\u001b[0;32m<ipython-input-13-3e4e6f266870>\u001b[0m in \u001b[0;36m<module>\u001b[0;34m()\u001b[0m\n\u001b[1;32m      5\u001b[0m \u001b[0;32mfor\u001b[0m \u001b[0mepoch\u001b[0m \u001b[0;32min\u001b[0m \u001b[0mrange\u001b[0m\u001b[0;34m(\u001b[0m\u001b[0;36m10\u001b[0m\u001b[0;34m)\u001b[0m\u001b[0;34m:\u001b[0m\u001b[0;34m\u001b[0m\u001b[0m\n\u001b[1;32m      6\u001b[0m     \u001b[0;32mfor\u001b[0m \u001b[0mx\u001b[0m\u001b[0;34m,\u001b[0m \u001b[0my\u001b[0m \u001b[0;32min\u001b[0m \u001b[0mzip\u001b[0m\u001b[0;34m(\u001b[0m\u001b[0mtrain_X\u001b[0m\u001b[0;34m,\u001b[0m \u001b[0mtrain_y\u001b[0m\u001b[0;34m)\u001b[0m\u001b[0;34m:\u001b[0m\u001b[0;34m\u001b[0m\u001b[0m\n\u001b[0;32m----> 7\u001b[0;31m         \u001b[0mtrain\u001b[0m\u001b[0;34m(\u001b[0m\u001b[0mx\u001b[0m\u001b[0;34m[\u001b[0m\u001b[0mnp\u001b[0m\u001b[0;34m.\u001b[0m\u001b[0mnewaxis\u001b[0m\u001b[0;34m,\u001b[0m \u001b[0;34m:\u001b[0m\u001b[0;34m]\u001b[0m\u001b[0;34m,\u001b[0m \u001b[0my\u001b[0m\u001b[0;34m[\u001b[0m\u001b[0mnp\u001b[0m\u001b[0;34m.\u001b[0m\u001b[0mnewaxis\u001b[0m\u001b[0;34m,\u001b[0m \u001b[0;34m:\u001b[0m\u001b[0;34m]\u001b[0m\u001b[0;34m,\u001b[0m \u001b[0meps\u001b[0m\u001b[0;34m=\u001b[0m\u001b[0;36m0.1\u001b[0m\u001b[0;34m)\u001b[0m\u001b[0;34m\u001b[0m\u001b[0m\n\u001b[0m\u001b[1;32m      8\u001b[0m     \u001b[0mpred_y\u001b[0m \u001b[0;34m=\u001b[0m \u001b[0mtest\u001b[0m\u001b[0;34m(\u001b[0m\u001b[0mtest_X\u001b[0m\u001b[0;34m,\u001b[0m \u001b[0mtest_y\u001b[0m\u001b[0;34m)\u001b[0m\u001b[0;34m\u001b[0m\u001b[0m\n\u001b[1;32m      9\u001b[0m     \u001b[0mpred_y\u001b[0m \u001b[0;34m=\u001b[0m \u001b[0;34m[\u001b[0m\u001b[0mnp\u001b[0m\u001b[0;34m.\u001b[0m\u001b[0margmax\u001b[0m\u001b[0;34m(\u001b[0m\u001b[0my\u001b[0m\u001b[0;34m)\u001b[0m \u001b[0;32mfor\u001b[0m \u001b[0my\u001b[0m \u001b[0;32min\u001b[0m \u001b[0mpred_y\u001b[0m\u001b[0;34m]\u001b[0m\u001b[0;34m\u001b[0m\u001b[0m\n",
      "\u001b[0;31mNameError\u001b[0m: name 'train' is not defined"
     ]
    }
   ],
   "source": [
    "## set layer\n",
    "layers = [Layer(784, 100, sigmoid, derive_sigmoid), \n",
    "                Layer(100, 10, sigmoid, derive_sigmoid)]\n",
    "## train loop\n",
    "for epoch in range(10):\n",
    "    for x, y in zip(train_X, train_y):\n",
    "        train(x[np.newaxis, :], y[np.newaxis, :], eps=0.1)    \n",
    "    pred_y = test(test_X, test_y)\n",
    "    pred_y = [np.argmax(y) for y in pred_y]\n",
    "    print(\"accuracy: \", accuracy_score(pred_y, test_y))\n",
    "\n",
    "print(\"Finish Training\")"
   ]
  }
 ],
 "metadata": {
  "kernelspec": {
   "display_name": "Python 3",
   "language": "python",
   "name": "python3"
  },
  "language_info": {
   "codemirror_mode": {
    "name": "ipython",
    "version": 3
   },
   "file_extension": ".py",
   "mimetype": "text/x-python",
   "name": "python",
   "nbconvert_exporter": "python",
   "pygments_lexer": "ipython3",
   "version": "3.5.1"
  }
 },
 "nbformat": 4,
 "nbformat_minor": 0
}
